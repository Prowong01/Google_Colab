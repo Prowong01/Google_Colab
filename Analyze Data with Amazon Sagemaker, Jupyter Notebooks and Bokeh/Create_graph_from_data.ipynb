{
  "nbformat": 4,
  "nbformat_minor": 0,
  "metadata": {
    "colab": {
      "provenance": [],
      "authorship_tag": "ABX9TyM3splW6uGzqKNH/qd4yzA2",
      "include_colab_link": true
    },
    "kernelspec": {
      "name": "python3",
      "display_name": "Python 3"
    },
    "language_info": {
      "name": "python"
    }
  },
  "cells": [
    {
      "cell_type": "markdown",
      "metadata": {
        "id": "view-in-github",
        "colab_type": "text"
      },
      "source": [
        "<a href=\"https://colab.research.google.com/github/Prowong01/Google_Colab/blob/main/Analyze%20Data%20with%20Amazon%20Sagemaker%2C%20Jupyter%20Notebooks%20and%20Bokeh/Create_graph_from_data.ipynb\" target=\"_parent\"><img src=\"https://colab.research.google.com/assets/colab-badge.svg\" alt=\"Open In Colab\"/></a>"
      ]
    },
    {
      "cell_type": "code",
      "execution_count": null,
      "metadata": {
        "id": "0QhyUx4Q83Fl"
      },
      "outputs": [],
      "source": [
        "from bokeh.plotting import figure, output_file, show\n",
        "\n",
        "# prepare some data\n",
        "x = [1, 2, 3, 4, 5]\n",
        "y = [6, 7, 2, 4, 5]\n",
        "\n",
        "# output to static HTML file\n",
        "output_file(\"lines.html\")\n",
        "# create a new plot with a title and axis labels\n",
        "p = figure(title=\"simple line example 2\", x_axis_label='x', y_axis_label='y')\n",
        "\n",
        "# add a line renderer with legend and line thickness\n",
        "p.line(x, y, legend=\"Temp.\", line_width=2)\n",
        "\n",
        "# show the results\n",
        "show(p)"
      ]
    },
    {
      "cell_type": "code",
      "source": [
        "from bokeh.io import show, output_notebook\n",
        "from bokeh.models import CategoricalColorMapper, ColumnDataSource, FactorRange\n",
        "from bokeh.plotting import figure, output_file\n",
        "fruits = ['Apples', 'Pears', 'Nectarines', 'Plums', 'Grapes', 'Strawberries']\n",
        "counts = [5, 3, 4, 2, 4, 6]\n",
        "\n",
        "p = figure(x_range=fruits, plot_height=250, toolbar_location=None, title=\"Fruit Counts\")\n",
        "p.vbar(x=fruits, top=counts, width=0.9)\n",
        "p.xgrid.grid_line_color = None\n",
        "p.y_range.start = 0\n",
        "output_notebook()\n",
        "show(p)"
      ],
      "metadata": {
        "id": "k9D6L7X89BA8"
      },
      "execution_count": null,
      "outputs": []
    },
    {
      "cell_type": "code",
      "source": [
        "from bokeh.transform import factor_cmap\n",
        "\n",
        "fruits = ['Apples', 'Pears', 'Nectarines', 'Plums', 'Grapes', 'Strawberries']\n",
        "years = ['2015', '2016', '2017']\n",
        "\n",
        "data = {'fruits' : fruits,\n",
        "          '2015'   : [2, 1, 4, 3, 2, 4],\n",
        "          '2016'   : [5, 3, 3, 2, 4, 6],\n",
        "          '2017'   : [3, 2, 4, 4, 5, 3]}\n",
        "\n",
        "# this creates [ (\"Apples\", \"2015\"), (\"Apples\", \"2016\"), (\"Apples\", \"2017\"), (\"Pears\", \"2015), ... ]\n",
        "x = [ (fruit, year) for fruit in fruits for year in years ]\n",
        "counts = sum(zip(data['2015'], data['2016'], data['2017']), ()) # like an hstack\n",
        "\n",
        "source = ColumnDataSource(data=dict(x=x, counts=counts))\n",
        "\n",
        "p = figure(x_range=FactorRange(*x), plot_height=250, toolbar_location=None, title=\"Fruit Counts by Year\")\n",
        "p.vbar(x='x', top='counts', width=0.9, source=source, line_color=\"white\",\n",
        "         fill_color=factor_cmap('x', palette=[\"#c9d9d3\", \"#718dbf\", \"#e84d60\"], factors=years, start=1, end=2))\n",
        "\n",
        "p.x_range.range_padding = 0.1\n",
        "p.xgrid.grid_line_color = None\n",
        "p.y_range.start = 0\n",
        "p.xaxis.major_label_orientation = 1\n",
        "output_notebook()\n",
        "show(p)"
      ],
      "metadata": {
        "id": "X4BSv1xq9EeD"
      },
      "execution_count": null,
      "outputs": []
    }
  ]
}