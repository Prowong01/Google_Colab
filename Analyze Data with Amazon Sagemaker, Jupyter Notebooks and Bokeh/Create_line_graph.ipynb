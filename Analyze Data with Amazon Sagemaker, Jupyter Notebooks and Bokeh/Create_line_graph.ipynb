{
  "nbformat": 4,
  "nbformat_minor": 0,
  "metadata": {
    "colab": {
      "provenance": [],
      "authorship_tag": "ABX9TyOHhTjmleaAgU0oQ2asHulM",
      "include_colab_link": true
    },
    "kernelspec": {
      "name": "python3",
      "display_name": "Python 3"
    },
    "language_info": {
      "name": "python"
    }
  },
  "cells": [
    {
      "cell_type": "markdown",
      "metadata": {
        "id": "view-in-github",
        "colab_type": "text"
      },
      "source": [
        "<a href=\"https://colab.research.google.com/github/Prowong01/Google_Colab/blob/main/Analyze%20Data%20with%20Amazon%20Sagemaker%2C%20Jupyter%20Notebooks%20and%20Bokeh/Create_line_graph.ipynb\" target=\"_parent\"><img src=\"https://colab.research.google.com/assets/colab-badge.svg\" alt=\"Open In Colab\"/></a>"
      ]
    },
    {
      "cell_type": "code",
      "source": [
        "import pandas as pd\n",
        "from bokeh.plotting import figure, output_file, show\n",
        "from bokeh.models import ColumnDataSource\n",
        "\n",
        "output_file('taxidata.html')\n",
        "df = pd.read_csv('/home/ec2-user/yellow_tripdata_2017-01.csv')\n",
        "sample = df.sample (50)\n",
        "source = ColumnDataSource(sample)\n",
        "p=figure()\n",
        "p.circle(x='passenger_count', y='total_amount', source=source, size=10, color='green')\n",
        "p.title.text = 'Taxi rides'\n",
        "p.xaxis.axis_label = \"Passengers\"\n",
        "p.yaxis.axis_label = \"Amount paid\"\n",
        "show(p)"
      ],
      "metadata": {
        "id": "VmSeQ7F59GhG"
      },
      "execution_count": null,
      "outputs": []
    }
  ]
}